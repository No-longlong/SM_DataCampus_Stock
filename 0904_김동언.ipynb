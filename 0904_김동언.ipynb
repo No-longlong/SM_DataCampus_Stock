{
 "cells": [
  {
   "cell_type": "code",
   "execution_count": 4,
   "metadata": {},
   "outputs": [],
   "source": [
    "import requests\n",
    "from bs4 import BeautifulSoup\n",
    "import numpy as np\n",
    "import pandas as pd\n",
    "import FinanceDataReader as fdr"
   ]
  },
  {
   "cell_type": "code",
   "execution_count": 5,
   "metadata": {},
   "outputs": [],
   "source": [
    "BASE_URL = 'https://finance.naver.com/sise/sise_market_sum.nhn?sosok='\n",
    "\n",
    "KOSPI_CODE = 0\n",
    "KOSDAK_CODE = 1\n",
    "START_PAGE = 1\n",
    "\n",
    "def main(code):\n",
    "    res = requests.get(BASE_URL + str(code) + '&page=' + str(START_PAGE))\n",
    "    page_soup = BeautifulSoup(res.text, 'lxml')\n",
    "    \n",
    "    total_page_num = page_soup.select_one('td.pgRR > a')\n",
    "    total_page_num = int(total_page_num.get('href').split('=')[-1])\n",
    "    \n",
    "    ipt_html = page_soup.select_one('div.subcnt_sise_item_top')\n",
    "    global fields\n",
    "    fields = [item.get('value') for item in ipt_html.select('input')]\n",
    "    \n",
    "    result = [crawl(code,str(page)) for page in range(1, total_page_num + 1)]\n",
    "    \n",
    "    df = pd.concat(result, axis = 0, ignore_index = True)\n",
    "    return df\n",
    "    \n",
    "def crawl(code, page):\n",
    "    global fields\n",
    "    data = {'menu': 'market_sum',\n",
    "            'fieldIds': fields,\n",
    "            'returnUrl': BASE_URL + str(code) + \"&page=\" + str(page)}\n",
    "    \n",
    "    res = requests.post('https://finance.naver.com/sise/field_submit.nhn', data = data)\n",
    "    page_soup = BeautifulSoup(res.text, 'lxml')\n",
    "    \n",
    "    table_html = page_soup.select_one('div.box_type_l')\n",
    "    \n",
    "    header_data = [item.get_text().strip() for item in table_html.select('thead th')][1:-1]\n",
    "    \n",
    "    inner_data = [item.get_text().strip() for item in table_html.find_all(lambda x:\n",
    "                                                                            (x.name == 'a' and\n",
    "                                                                             'tltle' in x.get('class', [])) or\n",
    "                                                                            (x.name == 'td' and\n",
    "                                                                             'number' in x.get('class', []))\n",
    "                                                                            )]\n",
    "    no_data = [item.get_text().strip() for item in table_html.select('td.no')]\n",
    "    number_data = np.array(inner_data)\n",
    "    \n",
    "    number_data.resize(len(no_data), len(header_data))\n",
    "    \n",
    "    df = pd.DataFrame(data = number_data, columns = header_data)\n",
    "    return df\n"
   ]
  },
  {
   "cell_type": "markdown",
   "metadata": {},
   "source": [
    "###현재 네이버에 기재된 매출액, 총자산은 마지막 재무제표 결산일을 기준으로 한다 "
   ]
  },
  {
   "cell_type": "code",
   "execution_count": 6,
   "metadata": {},
   "outputs": [],
   "source": [
    "KOSPI = main(KOSPI_CODE)\n",
    "KOSDAK = main(KOSDAK_CODE)"
   ]
  },
  {
   "cell_type": "code",
   "execution_count": 7,
   "metadata": {},
   "outputs": [],
   "source": [
    "KOSPI = KOSPI.replace('N/A',np.nan).dropna(axis = 0)\n",
    "KOSPI['PER'] = KOSPI['PER'].str.replace(',','').astype('float64')\n",
    "KOSPI['ROE'] = KOSPI['ROE'].str.replace(',','').astype('float64')\n",
    "KOSPI['ROA'] = KOSPI['ROA'].str.replace(',','').astype('float64')\n",
    "KOSPI['시가총액'] = KOSPI['시가총액'].str.replace(',','').astype('int64')\n",
    "KOSPI['매출액'] = KOSPI['매출액'].str.replace(',','').astype('int64')\n",
    "KOSPI['영업이익'] = KOSPI['영업이익'].str.replace(',','').astype('int64')\n",
    "KOSPI['PSR'] = KOSPI['시가총액'] / KOSPI['매출액']\n",
    "KOSPI['POR'] = KOSPI['시가총액'] / KOSPI['영업이익']\n",
    "KOSPI = KOSPI[['종목명','PER','ROE','ROA','PBR','PSR','POR']]\n",
    "c = ['PER','POR']\n",
    "KOSPI[c] = KOSPI[c].mask(KOSPI[c] < 0)\n",
    "KOSPI = KOSPI.dropna(axis = 0)"
   ]
  },
  {
   "cell_type": "code",
   "execution_count": 8,
   "metadata": {},
   "outputs": [],
   "source": [
    "KOSPI['PBR + PSR'] = KOSPI[['PBR','PSR']].rank(method = 'min').sum(axis = 1)\n",
    "KOSPI['PBR + PSR + POR'] = KOSPI[['PBR','PSR','POR']].rank(method = 'min').sum(axis = 1)\n",
    "KOSPI['total_rank'] = (KOSPI[['PER','PBR','PSR']].rank(method = 'min').sum(axis = 1) + KOSPI[['ROE','ROA']].rank(method = 'min',ascending = False).sum(axis = 1))"
   ]
  },
  {
   "cell_type": "code",
   "execution_count": 9,
   "metadata": {},
   "outputs": [
    {
     "data": {
      "text/html": [
       "<div>\n",
       "<style scoped>\n",
       "    .dataframe tbody tr th:only-of-type {\n",
       "        vertical-align: middle;\n",
       "    }\n",
       "\n",
       "    .dataframe tbody tr th {\n",
       "        vertical-align: top;\n",
       "    }\n",
       "\n",
       "    .dataframe thead th {\n",
       "        text-align: right;\n",
       "    }\n",
       "</style>\n",
       "<table border=\"1\" class=\"dataframe\">\n",
       "  <thead>\n",
       "    <tr style=\"text-align: right;\">\n",
       "      <th></th>\n",
       "      <th>종목명</th>\n",
       "      <th>PBR</th>\n",
       "      <th>PSR</th>\n",
       "    </tr>\n",
       "  </thead>\n",
       "  <tbody>\n",
       "    <tr>\n",
       "      <th>1</th>\n",
       "      <td>한화생명</td>\n",
       "      <td>0.09</td>\n",
       "      <td>0.055111</td>\n",
       "    </tr>\n",
       "    <tr>\n",
       "      <th>2</th>\n",
       "      <td>세아홀딩스</td>\n",
       "      <td>0.14</td>\n",
       "      <td>0.057436</td>\n",
       "    </tr>\n",
       "    <tr>\n",
       "      <th>3</th>\n",
       "      <td>동양생명</td>\n",
       "      <td>0.18</td>\n",
       "      <td>0.077918</td>\n",
       "    </tr>\n",
       "    <tr>\n",
       "      <th>4</th>\n",
       "      <td>삼천리</td>\n",
       "      <td>0.19</td>\n",
       "      <td>0.086087</td>\n",
       "    </tr>\n",
       "    <tr>\n",
       "      <th>5</th>\n",
       "      <td>아세아</td>\n",
       "      <td>0.18</td>\n",
       "      <td>0.106263</td>\n",
       "    </tr>\n",
       "    <tr>\n",
       "      <th>...</th>\n",
       "      <td>...</td>\n",
       "      <td>...</td>\n",
       "      <td>...</td>\n",
       "    </tr>\n",
       "    <tr>\n",
       "      <th>439</th>\n",
       "      <td>신풍제약</td>\n",
       "      <td>34.87</td>\n",
       "      <td>41.477596</td>\n",
       "    </tr>\n",
       "    <tr>\n",
       "      <th>440</th>\n",
       "      <td>일양약품</td>\n",
       "      <td>7.63</td>\n",
       "      <td>4.856747</td>\n",
       "    </tr>\n",
       "    <tr>\n",
       "      <th>441</th>\n",
       "      <td>NAVER</td>\n",
       "      <td>6.61</td>\n",
       "      <td>7.835229</td>\n",
       "    </tr>\n",
       "    <tr>\n",
       "      <th>442</th>\n",
       "      <td>엔씨소프트</td>\n",
       "      <td>6.03</td>\n",
       "      <td>10.478897</td>\n",
       "    </tr>\n",
       "    <tr>\n",
       "      <th>443</th>\n",
       "      <td>부광약품</td>\n",
       "      <td>7.79</td>\n",
       "      <td>13.838882</td>\n",
       "    </tr>\n",
       "  </tbody>\n",
       "</table>\n",
       "<p>443 rows × 3 columns</p>\n",
       "</div>"
      ],
      "text/plain": [
       "       종목명    PBR        PSR\n",
       "1     한화생명   0.09   0.055111\n",
       "2    세아홀딩스   0.14   0.057436\n",
       "3     동양생명   0.18   0.077918\n",
       "4      삼천리   0.19   0.086087\n",
       "5      아세아   0.18   0.106263\n",
       "..     ...    ...        ...\n",
       "439   신풍제약  34.87  41.477596\n",
       "440   일양약품   7.63   4.856747\n",
       "441  NAVER   6.61   7.835229\n",
       "442  엔씨소프트   6.03  10.478897\n",
       "443   부광약품   7.79  13.838882\n",
       "\n",
       "[443 rows x 3 columns]"
      ]
     },
     "execution_count": 9,
     "metadata": {},
     "output_type": "execute_result"
    }
   ],
   "source": [
    "PBR_PSR = KOSPI[['종목명','PBR','PSR','PBR + PSR']].sort_values(by = 'PBR + PSR')\n",
    "PBR_PSR = PBR_PSR.drop(['PBR + PSR'],axis = 1)\n",
    "PBR_PSR.index = list(range(1,len(PBR_PSR)+1))\n",
    "PBR_PSR"
   ]
  },
  {
   "cell_type": "code",
   "execution_count": null,
   "metadata": {},
   "outputs": [],
   "source": [
    "PBR_PSR.to_excel('PBR_PSR.xlsx')"
   ]
  },
  {
   "cell_type": "code",
   "execution_count": null,
   "metadata": {},
   "outputs": [],
   "source": [
    "PBR_PSR_POR = KOSPI[['종목명','PBR','PSR','POR','PBR + PSR + POR']].sort_values(by = 'PBR + PSR + POR')\n",
    "PBR_PSR_POR = PBR_PSR_POR.drop(['PBR + PSR + POR'],axis = 1)\n",
    "PBR_PSR_POR.index = list(range(1,len(PBR_PSR_POR)+1))\n",
    "PBR_PSR_POR.to_excel('PBR_PSR_POR.xlsx')"
   ]
  },
  {
   "cell_type": "code",
   "execution_count": 23,
   "metadata": {},
   "outputs": [],
   "source": [
    "TOTAL = KOSPI.sort_values(by = 'total_rank')\n",
    "TOTAL = TOTAL.drop(['PBR + PSR','PBR + PSR + POR','total_rank'], axis = 1)\n",
    "TOTAL.index = list(range(1,len(TOTAL)+1))\n",
    "TOTAL.to_excel('TOTAL.xlsx')"
   ]
  },
  {
   "cell_type": "code",
   "execution_count": 2,
   "metadata": {},
   "outputs": [],
   "source": [
    "KOSPI = fdr.StockListing('KOSPI')\n",
    "KOSDAQ = fdr.StockListing('KOSDAQ')\n",
    "Symbol = KOSPI['Symbol']\n",
    "Name = KOSPI['Name']\n",
    "target = [ i for i in zip(Symbol,Name)]\n",
    "target = pd.DataFrame(target)\n",
    "target.columns = ['Symbol','Name']"
   ]
  },
  {
   "cell_type": "code",
   "execution_count": 11,
   "metadata": {},
   "outputs": [
    {
     "data": {
      "text/html": [
       "<div>\n",
       "<style scoped>\n",
       "    .dataframe tbody tr th:only-of-type {\n",
       "        vertical-align: middle;\n",
       "    }\n",
       "\n",
       "    .dataframe tbody tr th {\n",
       "        vertical-align: top;\n",
       "    }\n",
       "\n",
       "    .dataframe thead th {\n",
       "        text-align: right;\n",
       "    }\n",
       "</style>\n",
       "<table border=\"1\" class=\"dataframe\">\n",
       "  <thead>\n",
       "    <tr style=\"text-align: right;\">\n",
       "      <th></th>\n",
       "      <th>Unnamed: 0</th>\n",
       "      <th>PER(배)</th>\n",
       "      <th>PBR(배)</th>\n",
       "      <th>EPS(원)</th>\n",
       "      <th>ROE(%)</th>\n",
       "      <th>ROA(%)</th>\n",
       "      <th>당기순이익</th>\n",
       "      <th>매출액</th>\n",
       "      <th>영업이익</th>\n",
       "      <th>발행주식수(보통주)</th>\n",
       "      <th>시가총액</th>\n",
       "      <th>PSR</th>\n",
       "      <th>POR</th>\n",
       "      <th>total_rank</th>\n",
       "    </tr>\n",
       "  </thead>\n",
       "  <tbody>\n",
       "    <tr>\n",
       "      <th>0</th>\n",
       "      <td>미디어젠</td>\n",
       "      <td>0.0</td>\n",
       "      <td>0.0</td>\n",
       "      <td>406</td>\n",
       "      <td>20.57</td>\n",
       "      <td>13.27</td>\n",
       "      <td>422</td>\n",
       "      <td>954</td>\n",
       "      <td>584</td>\n",
       "      <td>0</td>\n",
       "      <td>272.6</td>\n",
       "      <td>0.285744</td>\n",
       "      <td>0.466781</td>\n",
       "      <td>1.0</td>\n",
       "    </tr>\n",
       "  </tbody>\n",
       "</table>\n",
       "</div>"
      ],
      "text/plain": [
       "  Unnamed: 0  PER(배)  PBR(배)  EPS(원)  ROE(%)  ROA(%)  당기순이익  매출액  영업이익  \\\n",
       "0       미디어젠     0.0     0.0     406   20.57   13.27    422  954   584   \n",
       "\n",
       "   발행주식수(보통주)   시가총액       PSR       POR  total_rank  \n",
       "0           0  272.6  0.285744  0.466781         1.0  "
      ]
     },
     "execution_count": 11,
     "metadata": {},
     "output_type": "execute_result"
    }
   ],
   "source": [
    "ALL = pd.read_excel('all case.xlsx')\n",
    "ALL.columns = ALL['Unnamed']"
   ]
  },
  {
   "cell_type": "code",
   "execution_count": 7,
   "metadata": {},
   "outputs": [
    {
     "data": {
      "text/html": [
       "<div>\n",
       "<style scoped>\n",
       "    .dataframe tbody tr th:only-of-type {\n",
       "        vertical-align: middle;\n",
       "    }\n",
       "\n",
       "    .dataframe tbody tr th {\n",
       "        vertical-align: top;\n",
       "    }\n",
       "\n",
       "    .dataframe thead th {\n",
       "        text-align: right;\n",
       "    }\n",
       "</style>\n",
       "<table border=\"1\" class=\"dataframe\">\n",
       "  <thead>\n",
       "    <tr style=\"text-align: right;\">\n",
       "      <th></th>\n",
       "      <th>Unnamed: 0</th>\n",
       "      <th>PER(배)</th>\n",
       "      <th>PBR(배)</th>\n",
       "      <th>EPS(원)</th>\n",
       "      <th>ROE(%)</th>\n",
       "      <th>ROA(%)</th>\n",
       "      <th>당기순이익</th>\n",
       "      <th>매출액</th>\n",
       "      <th>영업이익</th>\n",
       "      <th>발행주식수(보통주)</th>\n",
       "      <th>시가총액</th>\n",
       "      <th>PSR</th>\n",
       "      <th>POR</th>\n",
       "      <th>total_rank</th>\n",
       "    </tr>\n",
       "  </thead>\n",
       "  <tbody>\n",
       "    <tr>\n",
       "      <th>0</th>\n",
       "      <td>미디어젠</td>\n",
       "      <td>0.00</td>\n",
       "      <td>0.00</td>\n",
       "      <td>406</td>\n",
       "      <td>20.57</td>\n",
       "      <td>13.27</td>\n",
       "      <td>422</td>\n",
       "      <td>954</td>\n",
       "      <td>584</td>\n",
       "      <td>0</td>\n",
       "      <td>272.600000</td>\n",
       "      <td>0.285744</td>\n",
       "      <td>0.466781</td>\n",
       "      <td>1.0</td>\n",
       "    </tr>\n",
       "    <tr>\n",
       "      <th>1</th>\n",
       "      <td>포시에스</td>\n",
       "      <td>0.00</td>\n",
       "      <td>0.00</td>\n",
       "      <td>406</td>\n",
       "      <td>20.57</td>\n",
       "      <td>13.27</td>\n",
       "      <td>422</td>\n",
       "      <td>954</td>\n",
       "      <td>584</td>\n",
       "      <td>0</td>\n",
       "      <td>397.855247</td>\n",
       "      <td>0.417039</td>\n",
       "      <td>0.681259</td>\n",
       "      <td>2.0</td>\n",
       "    </tr>\n",
       "    <tr>\n",
       "      <th>2</th>\n",
       "      <td>피앤씨테크</td>\n",
       "      <td>0.00</td>\n",
       "      <td>0.00</td>\n",
       "      <td>406</td>\n",
       "      <td>20.57</td>\n",
       "      <td>13.27</td>\n",
       "      <td>422</td>\n",
       "      <td>954</td>\n",
       "      <td>584</td>\n",
       "      <td>0</td>\n",
       "      <td>540.517120</td>\n",
       "      <td>0.566580</td>\n",
       "      <td>0.925543</td>\n",
       "      <td>3.0</td>\n",
       "    </tr>\n",
       "    <tr>\n",
       "      <th>3</th>\n",
       "      <td>해성산업</td>\n",
       "      <td>0.00</td>\n",
       "      <td>0.00</td>\n",
       "      <td>406</td>\n",
       "      <td>20.57</td>\n",
       "      <td>13.27</td>\n",
       "      <td>422</td>\n",
       "      <td>954</td>\n",
       "      <td>584</td>\n",
       "      <td>0</td>\n",
       "      <td>1198.050000</td>\n",
       "      <td>1.255818</td>\n",
       "      <td>2.051455</td>\n",
       "      <td>4.0</td>\n",
       "    </tr>\n",
       "    <tr>\n",
       "      <th>4</th>\n",
       "      <td>이니텍</td>\n",
       "      <td>0.00</td>\n",
       "      <td>0.00</td>\n",
       "      <td>406</td>\n",
       "      <td>20.57</td>\n",
       "      <td>13.27</td>\n",
       "      <td>422</td>\n",
       "      <td>954</td>\n",
       "      <td>584</td>\n",
       "      <td>0</td>\n",
       "      <td>1389.322303</td>\n",
       "      <td>1.456313</td>\n",
       "      <td>2.378977</td>\n",
       "      <td>5.0</td>\n",
       "    </tr>\n",
       "    <tr>\n",
       "      <th>...</th>\n",
       "      <td>...</td>\n",
       "      <td>...</td>\n",
       "      <td>...</td>\n",
       "      <td>...</td>\n",
       "      <td>...</td>\n",
       "      <td>...</td>\n",
       "      <td>...</td>\n",
       "      <td>...</td>\n",
       "      <td>...</td>\n",
       "      <td>...</td>\n",
       "      <td>...</td>\n",
       "      <td>...</td>\n",
       "      <td>...</td>\n",
       "      <td>...</td>\n",
       "    </tr>\n",
       "    <tr>\n",
       "      <th>525</th>\n",
       "      <td>진성티이씨</td>\n",
       "      <td>236.12</td>\n",
       "      <td>3.70</td>\n",
       "      <td>151</td>\n",
       "      <td>1.66</td>\n",
       "      <td>0.59</td>\n",
       "      <td>2</td>\n",
       "      <td>439</td>\n",
       "      <td>47</td>\n",
       "      <td>0</td>\n",
       "      <td>2371.879274</td>\n",
       "      <td>5.402914</td>\n",
       "      <td>50.465516</td>\n",
       "      <td>526.0</td>\n",
       "    </tr>\n",
       "    <tr>\n",
       "      <th>526</th>\n",
       "      <td>안랩</td>\n",
       "      <td>257.11</td>\n",
       "      <td>1.16</td>\n",
       "      <td>21</td>\n",
       "      <td>0.46</td>\n",
       "      <td>0.39</td>\n",
       "      <td>4</td>\n",
       "      <td>627</td>\n",
       "      <td>25</td>\n",
       "      <td>0</td>\n",
       "      <td>5377.440135</td>\n",
       "      <td>8.576460</td>\n",
       "      <td>215.097605</td>\n",
       "      <td>527.0</td>\n",
       "    </tr>\n",
       "    <tr>\n",
       "      <th>527</th>\n",
       "      <td>태광</td>\n",
       "      <td>236.12</td>\n",
       "      <td>3.70</td>\n",
       "      <td>151</td>\n",
       "      <td>1.66</td>\n",
       "      <td>0.59</td>\n",
       "      <td>2</td>\n",
       "      <td>439</td>\n",
       "      <td>47</td>\n",
       "      <td>0</td>\n",
       "      <td>3193.250000</td>\n",
       "      <td>7.273918</td>\n",
       "      <td>67.941489</td>\n",
       "      <td>528.0</td>\n",
       "    </tr>\n",
       "    <tr>\n",
       "      <th>528</th>\n",
       "      <td>한글과컴퓨터</td>\n",
       "      <td>155.11</td>\n",
       "      <td>10.00</td>\n",
       "      <td>22</td>\n",
       "      <td>6.66</td>\n",
       "      <td>4.45</td>\n",
       "      <td>7</td>\n",
       "      <td>124</td>\n",
       "      <td>8</td>\n",
       "      <td>0</td>\n",
       "      <td>4143.256874</td>\n",
       "      <td>33.413362</td>\n",
       "      <td>517.907109</td>\n",
       "      <td>529.0</td>\n",
       "    </tr>\n",
       "    <tr>\n",
       "      <th>529</th>\n",
       "      <td>대한광통신</td>\n",
       "      <td>276.88</td>\n",
       "      <td>3.99</td>\n",
       "      <td>17</td>\n",
       "      <td>1.56</td>\n",
       "      <td>0.76</td>\n",
       "      <td>7</td>\n",
       "      <td>765</td>\n",
       "      <td>18</td>\n",
       "      <td>0</td>\n",
       "      <td>3942.947250</td>\n",
       "      <td>5.154179</td>\n",
       "      <td>219.052625</td>\n",
       "      <td>530.0</td>\n",
       "    </tr>\n",
       "  </tbody>\n",
       "</table>\n",
       "<p>530 rows × 14 columns</p>\n",
       "</div>"
      ],
      "text/plain": [
       "    Unnamed: 0  PER(배)  PBR(배)  EPS(원)  ROE(%)  ROA(%)  당기순이익  매출액  영업이익  \\\n",
       "0         미디어젠    0.00    0.00     406   20.57   13.27    422  954   584   \n",
       "1         포시에스    0.00    0.00     406   20.57   13.27    422  954   584   \n",
       "2        피앤씨테크    0.00    0.00     406   20.57   13.27    422  954   584   \n",
       "3         해성산업    0.00    0.00     406   20.57   13.27    422  954   584   \n",
       "4          이니텍    0.00    0.00     406   20.57   13.27    422  954   584   \n",
       "..         ...     ...     ...     ...     ...     ...    ...  ...   ...   \n",
       "525      진성티이씨  236.12    3.70     151    1.66    0.59      2  439    47   \n",
       "526         안랩  257.11    1.16      21    0.46    0.39      4  627    25   \n",
       "527         태광  236.12    3.70     151    1.66    0.59      2  439    47   \n",
       "528     한글과컴퓨터  155.11   10.00      22    6.66    4.45      7  124     8   \n",
       "529      대한광통신  276.88    3.99      17    1.56    0.76      7  765    18   \n",
       "\n",
       "     발행주식수(보통주)         시가총액        PSR         POR  total_rank  \n",
       "0             0   272.600000   0.285744    0.466781         1.0  \n",
       "1             0   397.855247   0.417039    0.681259         2.0  \n",
       "2             0   540.517120   0.566580    0.925543         3.0  \n",
       "3             0  1198.050000   1.255818    2.051455         4.0  \n",
       "4             0  1389.322303   1.456313    2.378977         5.0  \n",
       "..          ...          ...        ...         ...         ...  \n",
       "525           0  2371.879274   5.402914   50.465516       526.0  \n",
       "526           0  5377.440135   8.576460  215.097605       527.0  \n",
       "527           0  3193.250000   7.273918   67.941489       528.0  \n",
       "528           0  4143.256874  33.413362  517.907109       529.0  \n",
       "529           0  3942.947250   5.154179  219.052625       530.0  \n",
       "\n",
       "[530 rows x 14 columns]"
      ]
     },
     "execution_count": 7,
     "metadata": {},
     "output_type": "execute_result"
    }
   ],
   "source": []
  },
  {
   "cell_type": "code",
   "execution_count": 25,
   "metadata": {},
   "outputs": [],
   "source": [
    "# 첫번째 그룹 수익률 계산.\n",
    "group1 = list(PBR_PSR_POR.loc[:40,'종목명'])\n",
    "def EnterJongmok(target):\n",
    "    StockList1 = []\n",
    "    for c in group1:\n",
    "        StockList1.append([c,target.loc[target['Name']==c,'Symbol'].values[0]])\n",
    "    return StockList1\n",
    "stock_list1 = EnterJongmok(target)\n",
    "df_list = [fdr.DataReader(code, '2000-01-01', '2019-12-31')['Close'] for name, code in stock_list1]\n",
    "df1 = pd.concat(df_list, axis=1)\n",
    "df1.columns = [name for name, code in stock_list1] "
   ]
  },
  {
   "cell_type": "code",
   "execution_count": 26,
   "metadata": {},
   "outputs": [],
   "source": [
    "# 두번째 그룹 수익률 계산.\n",
    "group2 = list(PBR_PSR_POR.loc[41:80,'종목명'])\n",
    "def EnterJongmok(target):\n",
    "    StockList2 = []\n",
    "    for c in group2:\n",
    "        StockList2.append([c,target.loc[target['Name']==c,'Symbol'].values[0]])\n",
    "    return StockList2\n",
    "stock_list2 = EnterJongmok(target)\n",
    "df_list = [fdr.DataReader(code, '2000-01-01', '2019-12-31')['Close'] for name, code in stock_list2]\n",
    "df2 = pd.concat(df_list, axis=1)\n",
    "df2.columns = [name for name, code in stock_list2] "
   ]
  },
  {
   "cell_type": "code",
   "execution_count": 27,
   "metadata": {},
   "outputs": [],
   "source": [
    "# 세번째 그룹 수익률 계산.\n",
    "group3 = list(PBR_PSR_POR.loc[81:120,'종목명'])\n",
    "def EnterJongmok(target):\n",
    "    StockList3 = []\n",
    "    for c in group3:\n",
    "        StockList3.append([c,target.loc[target['Name']==c,'Symbol'].values[0]])\n",
    "    return StockList3\n",
    "stock_list3 = EnterJongmok(target)\n",
    "df_list = [fdr.DataReader(code, '2000-01-01', '2019-12-31')['Close'] for name, code in stock_list3]\n",
    "df3 = pd.concat(df_list, axis=1)\n",
    "df3.columns = [name for name, code in stock_list3] "
   ]
  },
  {
   "cell_type": "code",
   "execution_count": 28,
   "metadata": {},
   "outputs": [],
   "source": [
    "# 네번째 그룹 수익률 계산.\n",
    "group4 = list(PBR_PSR_POR.loc[121:160,'종목명'])\n",
    "def EnterJongmok(target):\n",
    "    StockList4 = []\n",
    "    for c in group4:\n",
    "        StockList4.append([c,target.loc[target['Name']==c,'Symbol'].values[0]])\n",
    "    return StockList4\n",
    "stock_list4 = EnterJongmok(target)\n",
    "df_list = [fdr.DataReader(code, '2000-01-01', '2019-12-31')['Close'] for name, code in stock_list4]\n",
    "df4 = pd.concat(df_list, axis=1)\n",
    "df4.columns = [name for name, code in stock_list4] "
   ]
  },
  {
   "cell_type": "code",
   "execution_count": 29,
   "metadata": {},
   "outputs": [],
   "source": [
    "# 다섯번째 그룹 수익률 계산.\n",
    "group5 = list(PBR_PSR_POR.loc[161:200,'종목명'])\n",
    "def EnterJongmok(target):\n",
    "    StockList5 = []\n",
    "    for c in group5:\n",
    "        StockList5.append([c,target.loc[target['Name']==c,'Symbol'].values[0]])\n",
    "    return StockList5\n",
    "stock_list5 = EnterJongmok(target)\n",
    "df_list = [fdr.DataReader(code, '2000-01-01', '2019-12-31')['Close'] for name, code in stock_list5]\n",
    "df5 = pd.concat(df_list, axis=1)\n",
    "df5.columns = [name for name, code in stock_list5] "
   ]
  },
  {
   "cell_type": "code",
   "execution_count": 30,
   "metadata": {},
   "outputs": [],
   "source": [
    "# 여섯번째 그룹 수익률 계산.\n",
    "group6 = list(PBR_PSR_POR.loc[201:240,'종목명'])\n",
    "def EnterJongmok(target):\n",
    "    StockList6 = []\n",
    "    for c in group6:\n",
    "        StockList6.append([c,target.loc[target['Name']==c,'Symbol'].values[0]])\n",
    "    return StockList6\n",
    "stock_list6 = EnterJongmok(target)\n",
    "df_list = [fdr.DataReader(code, '2000-01-01', '2019-12-31')['Close'] for name, code in stock_list6]\n",
    "df6 = pd.concat(df_list, axis=1)\n",
    "df6.columns = [name for name, code in stock_list6] "
   ]
  },
  {
   "cell_type": "code",
   "execution_count": 31,
   "metadata": {},
   "outputs": [],
   "source": [
    "# 일곱번째 그룹 수익률 계산.\n",
    "group7 = list(PBR_PSR_POR.loc[241:280,'종목명'])\n",
    "def EnterJongmok(target):\n",
    "    StockList7 = []\n",
    "    for c in group7:\n",
    "        StockList7.append([c,target.loc[target['Name']==c,'Symbol'].values[0]])\n",
    "    return StockList7\n",
    "stock_list7 = EnterJongmok(target)\n",
    "df_list = [fdr.DataReader(code, '2000-01-01', '2019-12-31')['Close'] for name, code in stock_list7]\n",
    "df7 = pd.concat(df_list, axis=1)\n",
    "df7.columns = [name for name, code in stock_list7] "
   ]
  },
  {
   "cell_type": "code",
   "execution_count": 32,
   "metadata": {},
   "outputs": [],
   "source": [
    "# 여덟번째 그룹 수익률 계산.\n",
    "group8 = list(PBR_PSR_POR.loc[281:320,'종목명'])\n",
    "def EnterJongmok(target):\n",
    "    StockList8 = []\n",
    "    for c in group8:\n",
    "        StockList8.append([c,target.loc[target['Name']==c,'Symbol'].values[0]])\n",
    "    return StockList8\n",
    "stock_list8 = EnterJongmok(target)\n",
    "df_list = [fdr.DataReader(code, '2000-01-01', '2019-12-31')['Close'] for name, code in stock_list8]\n",
    "df8 = pd.concat(df_list, axis=1)\n",
    "df8.columns = [name for name, code in stock_list8] "
   ]
  },
  {
   "cell_type": "code",
   "execution_count": 33,
   "metadata": {},
   "outputs": [],
   "source": [
    "# 아홉번째 그룹 수익률 계산.\n",
    "group9 = list(PBR_PSR_POR.loc[321:360,'종목명'])\n",
    "def EnterJongmok(target):\n",
    "    StockList9 = []\n",
    "    for c in group9:\n",
    "        StockList9.append([c,target.loc[target['Name']==c,'Symbol'].values[0]])\n",
    "    return StockList9\n",
    "stock_list9 = EnterJongmok(target)\n",
    "df_list = [fdr.DataReader(code, '2000-01-01', '2019-12-31')['Close'] for name, code in stock_list9]\n",
    "df9 = pd.concat(df_list, axis=1)\n",
    "df9.columns = [name for name, code in stock_list9] "
   ]
  },
  {
   "cell_type": "code",
   "execution_count": 34,
   "metadata": {},
   "outputs": [],
   "source": [
    "# 열번째 그룹 수익률 계산.\n",
    "group10 = list(PBR_PSR_POR.loc[361:400,'종목명'])\n",
    "\n",
    "def EnterJongmok(target):\n",
    "    StockList10 = []\n",
    "    for c in group10:\n",
    "        StockList10.append([c,target.loc[target['Name']==c,'Symbol'].values[0]])\n",
    "    return StockList10\n",
    "stock_list10 = EnterJongmok(target)\n",
    "df_list = [fdr.DataReader(code, '2000-01-01', '2019-12-31')['Close'] for name, code in stock_list10]\n",
    "df10 = pd.concat(df_list, axis=1)\n",
    "df10.columns = [name for name, code in stock_list10] "
   ]
  },
  {
   "cell_type": "code",
   "execution_count": 35,
   "metadata": {},
   "outputs": [],
   "source": [
    "# 열한번째 그룹 수익률 계산.\n",
    "group11 = list(PBR_PSR_POR.loc[401:440,'종목명'])\n",
    "def EnterJongmok(target):\n",
    "    StockList11 = []\n",
    "    for c in group11:\n",
    "        StockList11.append([c,target.loc[target['Name']==c,'Symbol'].values[0]])\n",
    "    return StockList11\n",
    "stock_list11 = EnterJongmok(target)\n",
    "df_list = [fdr.DataReader(code, '2000-01-01', '2019-12-31')['Close'] for name, code in stock_list11]\n",
    "df11 = pd.concat(df_list, axis=1)\n",
    "df11.columns = [name for name, code in stock_list11] "
   ]
  },
  {
   "cell_type": "code",
   "execution_count": 36,
   "metadata": {},
   "outputs": [],
   "source": [
    "def CalProfitRatio(df,t_s,t_e):\n",
    "    res = pd.DataFrame(round(df.apply(lambda x: round(x.loc[t_e]-x.loc[t_s])*100/x.loc[t_s]),2),columns=['수익률 (%)'])    \n",
    "    return res    "
   ]
  },
  {
   "cell_type": "code",
   "execution_count": 37,
   "metadata": {},
   "outputs": [
    {
     "data": {
      "text/plain": [
       "수익률 (%)    324.37\n",
       "dtype: float64"
      ]
     },
     "execution_count": 37,
     "metadata": {},
     "output_type": "execute_result"
    }
   ],
   "source": [
    "CalProfitRatio(df1,'2010-01-04','2019-12-24').sum(axis = 0)"
   ]
  },
  {
   "cell_type": "code",
   "execution_count": 38,
   "metadata": {},
   "outputs": [
    {
     "data": {
      "text/plain": [
       "수익률 (%)    1023.04\n",
       "dtype: float64"
      ]
     },
     "execution_count": 38,
     "metadata": {},
     "output_type": "execute_result"
    }
   ],
   "source": [
    "CalProfitRatio(df2,'2010-01-04','2019-12-24').sum(axis = 0)"
   ]
  },
  {
   "cell_type": "code",
   "execution_count": 39,
   "metadata": {},
   "outputs": [
    {
     "data": {
      "text/plain": [
       "수익률 (%)    1427.38\n",
       "dtype: float64"
      ]
     },
     "execution_count": 39,
     "metadata": {},
     "output_type": "execute_result"
    }
   ],
   "source": [
    "CalProfitRatio(df3,'2010-01-04','2019-12-24').sum(axis = 0)"
   ]
  },
  {
   "cell_type": "code",
   "execution_count": 40,
   "metadata": {},
   "outputs": [
    {
     "data": {
      "text/plain": [
       "수익률 (%)    1016.98\n",
       "dtype: float64"
      ]
     },
     "execution_count": 40,
     "metadata": {},
     "output_type": "execute_result"
    }
   ],
   "source": [
    "CalProfitRatio(df4,'2010-01-04','2019-12-24').sum(axis = 0)"
   ]
  },
  {
   "cell_type": "code",
   "execution_count": 41,
   "metadata": {},
   "outputs": [
    {
     "data": {
      "text/plain": [
       "수익률 (%)    2835.87\n",
       "dtype: float64"
      ]
     },
     "execution_count": 41,
     "metadata": {},
     "output_type": "execute_result"
    }
   ],
   "source": [
    "CalProfitRatio(df5,'2010-01-04','2019-12-24').sum(axis = 0)"
   ]
  },
  {
   "cell_type": "code",
   "execution_count": 42,
   "metadata": {},
   "outputs": [
    {
     "data": {
      "text/plain": [
       "수익률 (%)    1892.48\n",
       "dtype: float64"
      ]
     },
     "execution_count": 42,
     "metadata": {},
     "output_type": "execute_result"
    }
   ],
   "source": [
    "CalProfitRatio(df6,'2010-01-04','2019-12-24').sum(axis = 0)"
   ]
  },
  {
   "cell_type": "code",
   "execution_count": 43,
   "metadata": {},
   "outputs": [
    {
     "data": {
      "text/plain": [
       "수익률 (%)    2349.51\n",
       "dtype: float64"
      ]
     },
     "execution_count": 43,
     "metadata": {},
     "output_type": "execute_result"
    }
   ],
   "source": [
    "CalProfitRatio(df7,'2010-01-04','2019-12-24').sum(axis = 0)"
   ]
  },
  {
   "cell_type": "code",
   "execution_count": 44,
   "metadata": {},
   "outputs": [
    {
     "data": {
      "text/plain": [
       "수익률 (%)    3023.97\n",
       "dtype: float64"
      ]
     },
     "execution_count": 44,
     "metadata": {},
     "output_type": "execute_result"
    }
   ],
   "source": [
    "CalProfitRatio(df8,'2010-01-04','2019-12-24').sum(axis = 0)"
   ]
  },
  {
   "cell_type": "code",
   "execution_count": 45,
   "metadata": {},
   "outputs": [
    {
     "data": {
      "text/plain": [
       "수익률 (%)    2932.19\n",
       "dtype: float64"
      ]
     },
     "execution_count": 45,
     "metadata": {},
     "output_type": "execute_result"
    }
   ],
   "source": [
    "CalProfitRatio(df9,'2010-01-04','2019-12-24').sum(axis = 0)"
   ]
  },
  {
   "cell_type": "code",
   "execution_count": 46,
   "metadata": {},
   "outputs": [
    {
     "data": {
      "text/plain": [
       "수익률 (%)    10784.8\n",
       "dtype: float64"
      ]
     },
     "execution_count": 46,
     "metadata": {},
     "output_type": "execute_result"
    }
   ],
   "source": [
    "CalProfitRatio(df10,'2010-01-04','2019-12-24').sum(axis = 0)"
   ]
  },
  {
   "cell_type": "code",
   "execution_count": 47,
   "metadata": {},
   "outputs": [
    {
     "data": {
      "text/plain": [
       "수익률 (%)    8500.77\n",
       "dtype: float64"
      ]
     },
     "execution_count": 47,
     "metadata": {},
     "output_type": "execute_result"
    }
   ],
   "source": [
    "CalProfitRatio(df11,'2010-01-04','2019-12-24').sum(axis = 0)"
   ]
  },
  {
   "cell_type": "code",
   "execution_count": 48,
   "metadata": {},
   "outputs": [],
   "source": [
    "url = 'https://finance.naver.com/sise/sise_group.nhn?type=upjong'\n",
    "req = requests.get(url)\n",
    "session = requests.session()\n",
    "res = session.get(url)\n",
    "\n",
    "html = req.text\n",
    "soup = BeautifulSoup(html, 'html.parser')\n",
    "a = soup.select('div > #contentarea > #contentarea_left > table > tr > td > a')\n",
    "\n",
    "name = []\n",
    "for i in range(0,79):\n",
    "    title = a[i].get_text().strip()\n",
    "    name.append(title)\n",
    "    \n",
    "html = req.text\n",
    "soup = BeautifulSoup(html, 'html.parser')\n",
    "b = soup.select('div > #contentarea > #contentarea_left > table > tr > td > span')\n",
    "\n",
    "value = []\n",
    "for i in range(0,79):\n",
    "    title = b[i].get_text().strip()\n",
    "    value.append(title)\n",
    "target1 = [ i for i in zip(name,value)]\n",
    "target1 = pd.DataFrame(target1)\n",
    "target1.columns = ['테마명','등락률']\n",
    "\n",
    "target1.to_excel('실시간 테마별 수익.xlsx')"
   ]
  },
  {
   "cell_type": "code",
   "execution_count": 123,
   "metadata": {},
   "outputs": [
    {
     "data": {
      "text/html": [
       "<div>\n",
       "<style scoped>\n",
       "    .dataframe tbody tr th:only-of-type {\n",
       "        vertical-align: middle;\n",
       "    }\n",
       "\n",
       "    .dataframe tbody tr th {\n",
       "        vertical-align: top;\n",
       "    }\n",
       "\n",
       "    .dataframe thead th {\n",
       "        text-align: right;\n",
       "    }\n",
       "</style>\n",
       "<table border=\"1\" class=\"dataframe\">\n",
       "  <thead>\n",
       "    <tr style=\"text-align: right;\">\n",
       "      <th></th>\n",
       "      <th>테마명</th>\n",
       "      <th>등락률</th>\n",
       "    </tr>\n",
       "  </thead>\n",
       "  <tbody>\n",
       "    <tr>\n",
       "      <th>0</th>\n",
       "      <td>095570</td>\n",
       "      <td>AJ네트웍스</td>\n",
       "    </tr>\n",
       "    <tr>\n",
       "      <th>1</th>\n",
       "      <td>006840</td>\n",
       "      <td>AK홀딩스</td>\n",
       "    </tr>\n",
       "    <tr>\n",
       "      <th>2</th>\n",
       "      <td>027410</td>\n",
       "      <td>BGF</td>\n",
       "    </tr>\n",
       "    <tr>\n",
       "      <th>3</th>\n",
       "      <td>282330</td>\n",
       "      <td>BGF리테일</td>\n",
       "    </tr>\n",
       "    <tr>\n",
       "      <th>4</th>\n",
       "      <td>138930</td>\n",
       "      <td>BNK금융지주</td>\n",
       "    </tr>\n",
       "    <tr>\n",
       "      <th>5</th>\n",
       "      <td>001460</td>\n",
       "      <td>BYC</td>\n",
       "    </tr>\n",
       "    <tr>\n",
       "      <th>6</th>\n",
       "      <td>001465</td>\n",
       "      <td>BYC우</td>\n",
       "    </tr>\n",
       "    <tr>\n",
       "      <th>7</th>\n",
       "      <td>001040</td>\n",
       "      <td>CJ</td>\n",
       "    </tr>\n",
       "    <tr>\n",
       "      <th>8</th>\n",
       "      <td>079160</td>\n",
       "      <td>CJ CGV</td>\n",
       "    </tr>\n",
       "    <tr>\n",
       "      <th>9</th>\n",
       "      <td>00104K</td>\n",
       "      <td>CJ4우(전환)</td>\n",
       "    </tr>\n",
       "  </tbody>\n",
       "</table>\n",
       "</div>"
      ],
      "text/plain": [
       "      테마명       등락률\n",
       "0  095570    AJ네트웍스\n",
       "1  006840     AK홀딩스\n",
       "2  027410       BGF\n",
       "3  282330    BGF리테일\n",
       "4  138930   BNK금융지주\n",
       "5  001460       BYC\n",
       "6  001465      BYC우\n",
       "7  001040        CJ\n",
       "8  079160    CJ CGV\n",
       "9  00104K  CJ4우(전환)"
      ]
     },
     "execution_count": 123,
     "metadata": {},
     "output_type": "execute_result"
    }
   ],
   "source": [
    "target1.head(10)"
   ]
  },
  {
   "cell_type": "code",
   "execution_count": 50,
   "metadata": {},
   "outputs": [],
   "source": [
    "BASE_URL = 'https://finance.naver.com/sise/sise_market_sum.nhn?sosok='\n",
    "\n",
    "KOSPI_CODE = 0\n",
    "KOSDAK_CODE = 1\n",
    "START_PAGE = 1\n",
    "\n",
    "def main(code):\n",
    "    res = requests.get(BASE_URL + str(code) + '&page=' + str(START_PAGE))\n",
    "    page_soup = BeautifulSoup(res.text, 'lxml')\n",
    "    \n",
    "    total_page_num = page_soup.select_one('td.pgRR > a')\n",
    "    total_page_num = int(total_page_num.get('href').split('=')[-1])\n",
    "    \n",
    "    ipt_html = page_soup.select_one('div.subcnt_sise_item_top')\n",
    "    global fields\n",
    "    fields = [item.get('value') for item in ipt_html.select('input')]\n",
    "    \n",
    "    result = [crawl(code,str(page)) for page in range(1, total_page_num + 1)]\n",
    "    \n",
    "    df = pd.concat(result, axis = 0, ignore_index = True)\n",
    "    \n",
    "    df.to_excel('NaverFinance.final.xlsx')\n",
    "    \n",
    "def crawl(code, page):\n",
    "    global fields\n",
    "    data = {'menu': 'market_sum',\n",
    "            'fieldIds': fields,\n",
    "            'returnUrl': BASE_URL + str(code) + \"&page=\" + str(page)}\n",
    "    \n",
    "    res = requests.post('https://finance.naver.com/sise/field_submit.nhn', data = data)\n",
    "    page_soup = BeautifulSoup(res.text, 'lxml')\n",
    "    \n",
    "    table_html = page_soup.select_one('div.box_type_l')\n",
    "    \n",
    "    header_data = [item.get_text().strip() for item in table_html.select('thead th')][1:-1]\n",
    "    \n",
    "    inner_data = [item.get_text().strip() for item in table_html.find_all(lambda x:\n",
    "                                                                            (x.name == 'a' and\n",
    "                                                                             'tltle' in x.get('class', [])) or\n",
    "                                                                            (x.name == 'td' and\n",
    "                                                                             'number' in x.get('class', []))\n",
    "                                                                            )]\n",
    "    no_data = [item.get_text().strip() for item in table_html.select('td.no')]\n",
    "    number_data = np.array(inner_data)\n",
    "    \n",
    "    number_data.resize(len(no_data), len(header_data))\n",
    "    \n",
    "    df = pd.DataFrame(data = number_data, columns = header_data)\n",
    "    return df\n"
   ]
  },
  {
   "cell_type": "code",
   "execution_count": null,
   "metadata": {},
   "outputs": [],
   "source": []
  }
 ],
 "metadata": {
  "kernelspec": {
   "display_name": "Python 3",
   "language": "python",
   "name": "python3"
  },
  "language_info": {
   "codemirror_mode": {
    "name": "ipython",
    "version": 3
   },
   "file_extension": ".py",
   "mimetype": "text/x-python",
   "name": "python",
   "nbconvert_exporter": "python",
   "pygments_lexer": "ipython3",
   "version": "3.7.7"
  }
 },
 "nbformat": 4,
 "nbformat_minor": 4
}
