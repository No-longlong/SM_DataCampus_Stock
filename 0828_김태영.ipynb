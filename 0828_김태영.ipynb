{
 "cells": [
  {
   "cell_type": "markdown",
   "metadata": {},
   "source": [
    "### 크롤링으로 전자장비와기기 업종 리스트 가져오기"
   ]
  },
  {
   "cell_type": "code",
   "execution_count": 88,
   "metadata": {},
   "outputs": [],
   "source": [
    "#com_list = []\n",
    "import requests\n",
    "from bs4 import BeautifulSoup\n",
    "import pandas as pd\n",
    "\n",
    "#com_list가 전자장비와기기 업종 회사이름\n",
    "tickers = {}\n",
    "url = \"https://finance.naver.com/sise/sise_group_detail.nhn?type=upjong&no=197\"\n",
    "rq = requests.get(url)\n",
    "html = rq.text\n",
    "\n",
    "soup = BeautifulSoup(html,\"html.parser\")\n",
    "rows = soup.select('td > div')\n",
    "\n",
    "for r in rows[1:]:\n",
    "    tickers[r.select('a')[0]['href'][20:]] = r.text\n",
    "a = [k for k in tickers.keys() if tickers[k][-2]=='우' or tickers[k][-3]=='우']\n",
    "# 우량주 종목 제외    \n",
    "for i in range(len(a)):\n",
    "    del tickers[a[i]]\n",
    "\n",
    "code = list(tickers.keys())\n",
    "com = list(tickers.values())\n",
    "annual_date = ['2015/12', '2016/12', '2017/12', '2018/12', '2019/12', '2020/12','2021/12', '2022/12']"
   ]
  },
  {
   "cell_type": "code",
   "execution_count": 89,
   "metadata": {},
   "outputs": [
    {
     "data": {
      "text/plain": [
       "{'066900': '디에이피 *',\n",
       " '085670': '뉴프렉스 *',\n",
       " '007660': '이수페타시스 ',\n",
       " '125210': '아모그린텍 *',\n",
       " '004270': '남성 ',\n",
       " '099520': 'ITX엠투엠 *',\n",
       " '068940': '아이씨케이 *',\n",
       " '082210': '옵트론텍 *',\n",
       " '051370': '인터플렉스 *',\n",
       " '101390': '아이엠 *',\n",
       " '007810': '코리아써키트 ',\n",
       " '072990': '에이치시티 *',\n",
       " '143160': '아이디스 *',\n",
       " '090460': '비에이치 *',\n",
       " '046310': '백금T&A; *',\n",
       " '187220': '디티앤씨 *',\n",
       " '008060': '대덕 ',\n",
       " '052020': '에스티큐브 *',\n",
       " '140860': '파크시스템스 *',\n",
       " '131400': '액트 *',\n",
       " '033240': '자화전자 ',\n",
       " '008110': '대동전자 ',\n",
       " '038460': '바이오스마트 *',\n",
       " '011230': '삼화전자 ',\n",
       " '262260': '에이프로 *',\n",
       " '353200': '대덕전자 ',\n",
       " '078600': '대주전자재료 *',\n",
       " '222800': '심텍 *',\n",
       " '250060': '모비스 *',\n",
       " '236200': '슈프리마 *',\n",
       " '036710': '심텍홀딩스 *',\n",
       " '053450': '세코닉스 *',\n",
       " '017900': '광전자 ',\n",
       " '272290': '이녹스첨단소재 *',\n",
       " '093520': '매커스 *',\n",
       " '057540': '옴니시스템 *',\n",
       " '083640': '인콘 *',\n",
       " '011070': 'LG이노텍 ',\n",
       " '092300': '현우산업 *',\n",
       " '069510': '에스텍 *',\n",
       " '033200': '모아텍 *',\n",
       " '004770': '써니전자 ',\n",
       " '017250': '인터엠 *',\n",
       " '009150': '삼성전기 ',\n",
       " '336370': '두산솔루스 ',\n",
       " '096040': '이트론 *',\n",
       " '091340': 'S&K;폴리텍 *',\n",
       " '052330': '코텍 *',\n",
       " '032820': '우리기술 *',\n",
       " '263810': '상신전자 *',\n",
       " '080420': '모다이노칩 *',\n",
       " '068240': '다원시스 *',\n",
       " '098460': '고영 *',\n",
       " '225190': '삼양옵틱스 *',\n",
       " '016920': '카스 *',\n",
       " '121800': '비덴트 *',\n",
       " '121890': '에스디시스템 *',\n",
       " '052400': '코나아이 *',\n",
       " '020150': '일진머티리얼즈 ',\n",
       " '033110': '코너스톤네트웍스 *',\n",
       " '115530': '씨엔플러스 *',\n",
       " '317770': '슈프리마아이디 *',\n",
       " '347890': '엠투아이 *',\n",
       " '050320': '에이앤티앤 *',\n",
       " '031330': '에스에이엠티 *',\n",
       " '094840': '슈프리마에이치큐 *',\n",
       " '300120': '라온피플 *',\n",
       " '204270': '제이앤티씨 *',\n",
       " '032960': '동일기연 *',\n",
       " '320000': '윈텍 *',\n",
       " '054800': '아이디스홀딩스 *',\n",
       " '084850': '아이티엠반도체 *',\n",
       " '264850': '이랜시스 *',\n",
       " '060230': '이그잭스 *',\n",
       " '251370': '와이엠티 *',\n",
       " '015260': '에이엔피 ',\n",
       " '203450': '유니온커뮤니티 *',\n",
       " '033320': '제이씨현시스템 *'}"
      ]
     },
     "execution_count": 89,
     "metadata": {},
     "output_type": "execute_result"
    }
   ],
   "source": [
    "tickers"
   ]
  },
  {
   "cell_type": "markdown",
   "metadata": {},
   "source": [
    "### 네이버 재무제표 크롤링"
   ]
  },
  {
   "cell_type": "code",
   "execution_count": 90,
   "metadata": {},
   "outputs": [],
   "source": [
    "import requests\n",
    "from bs4 import BeautifulSoup\n",
    "from datetime import datetime\n",
    "import numpy as np\n",
    "import pandas as pd\n",
    "import time\n",
    "import urllib.request\n",
    "from selenium.webdriver import Chrome\n",
    "import json\n",
    "import re\n",
    "from selenium.webdriver.chrome.options import Options\n",
    "from selenium.webdriver.common.keys import Keys\n",
    "import datetime as dt"
   ]
  },
  {
   "cell_type": "code",
   "execution_count": 91,
   "metadata": {},
   "outputs": [],
   "source": [
    "browser  = Chrome()\n",
    "browser.maximize_window()\n",
    "\n",
    "def ttt(xx):\n",
    "    name = xx\n",
    "    base_url = 'https://finance.naver.com/item/coinfo.nhn?code='+ name + '&target=finsum_more'\n",
    "    return base_url"
   ]
  },
  {
   "cell_type": "code",
   "execution_count": 92,
   "metadata": {},
   "outputs": [],
   "source": [
    "def stock_crawler(code):\n",
    "    #code = 종목번호\n",
    "    name = code\n",
    "    base_url = 'https://finance.naver.com/item/coinfo.nhn?code='+ name + '&target=finsum_more'\n",
    "    \n",
    "    browser.get(base_url)\n",
    "    #frmae구조 안에 필요한 데이터가 있기 때문에 해당 데이터를 수집하기 위해서는 frame구조에 들어가야한다.\n",
    "    browser.switch_to_frame(browser.find_element_by_id('coinfo_cp'))\n",
    "    \n",
    "    #재무제표 \"연간\" 클릭하기\n",
    "    browser.find_elements_by_xpath('//*[@class=\"schtab\"][1]/tbody/tr/td[3]')[0].click()\n",
    "\n",
    "    html0 = browser.page_source\n",
    "    html1 = BeautifulSoup(html0,'html.parser')\n",
    "    \n",
    "    #기업명 뽑기\n",
    "    title0 = html1.find('head').find('title').text\n",
    "    #print(title0.split('-')[-1])\n",
    "    \n",
    "    html22 = html1.find('table',{'class':'gHead01 all-width','summary':'주요재무정보를 제공합니다.'})\n",
    "    \n",
    "    #date scrapy\n",
    "    thead0 = html22.find('thead')\n",
    "    tr0 = thead0.find_all('tr')[1]\n",
    "    th0 = tr0.find_all('th')\n",
    "    \n",
    "    date = []\n",
    "    for i in range(len(th0)):\n",
    "        date.append(''.join(re.findall('[0-9/]',th0[i].text)))\n",
    "    \n",
    "    #columns scrapy\n",
    "    tbody0 = html22.find('tbody')\n",
    "    tr0 = tbody0.find_all('tr')\n",
    "    \n",
    "    col = []\n",
    "    for i in range(len(tr0)):\n",
    "\n",
    "        if '\\xa0' in tr0[i].find('th').text:\n",
    "            tx = re.sub('\\xa0','',tr0[i].find('th').text)\n",
    "        else:\n",
    "            tx = tr0[i].find('th').text\n",
    "\n",
    "        col.append(tx)\n",
    "    \n",
    "    #main text scrapy\n",
    "    td = []\n",
    "    for i in range(len(tr0)):\n",
    "        td0 = tr0[i].find_all('td')\n",
    "        td1 = []\n",
    "        for j in range(len(td0)):\n",
    "            if td0[j].text == '':\n",
    "                td1.append('0')\n",
    "            else:\n",
    "                td1.append(td0[j].text)\n",
    "\n",
    "        td.append(td1)\n",
    "    \n",
    "    td2 = list(map(list,zip(*td)))\n",
    "    \n",
    "    return pd.DataFrame(td2,columns = col,index = date).T"
   ]
  },
  {
   "cell_type": "code",
   "execution_count": 13,
   "metadata": {},
   "outputs": [
    {
     "data": {
      "text/plain": [
       "Index(['매출액', '영업이익', '영업이익(발표기준)', '세전계속사업이익', '당기순이익', '당기순이익(지배)',\n",
       "       '당기순이익(비지배)', '자산총계', '부채총계', '자본총계', '자본총계(지배)', '자본총계(비지배)', '자본금',\n",
       "       '영업활동현금흐름', '투자활동현금흐름', '재무활동현금흐름', 'CAPEX', 'FCF', '이자발생부채', '영업이익률',\n",
       "       '순이익률', 'ROE(%)', 'ROA(%)', '부채비율', '자본유보율', 'EPS(원)', 'PER(배)',\n",
       "       'BPS(원)', 'PBR(배)', '현금DPS(원)', '현금배당수익률', '현금배당성향(%)', '발행주식수(보통주)'],\n",
       "      dtype='object')"
      ]
     },
     "execution_count": 13,
     "metadata": {},
     "output_type": "execute_result"
    }
   ],
   "source": [
    "samsung.columns"
   ]
  },
  {
   "cell_type": "code",
   "execution_count": 93,
   "metadata": {},
   "outputs": [
    {
     "name": "stderr",
     "output_type": "stream",
     "text": [
      "C:\\Users\\skxod\\.conda\\envs\\keras\\lib\\site-packages\\ipykernel_launcher.py:8: DeprecationWarning: use driver.switch_to.frame instead\n",
      "  \n"
     ]
    }
   ],
   "source": [
    "# array로 정의\n",
    "#df_NI(Net Income) : 당기순이익 데이터프레임\n",
    "df_PER,df_PBR,df_ROE,df_ROA,df_EPS,df_NI = np.array([]),np.array([]),np.array([]),np.array([]),np.array([]),np.array([])\n",
    "\n",
    "for c in code:\n",
    "    df = stock_crawler(c)\n",
    "    df_PER = np.hstack([df_PER,df.loc['PER(배)'].values])\n",
    "    df_PBR = np.hstack([df_PBR,df.loc['PBR(배)'].values])\n",
    "    df_EPS = np.hstack([df_EPS,df.loc['EPS(원)'].values])\n",
    "    df_ROE = np.hstack([df_ROE,df.loc['ROE(%)'].values])\n",
    "    df_ROA = np.hstack([df_ROA,df.loc['ROA(%)'].values])\n",
    "    df_NI = np.hstack([df_NI,df.loc['당기순이익'].values])    "
   ]
  },
  {
   "cell_type": "code",
   "execution_count": 50,
   "metadata": {},
   "outputs": [],
   "source": [
    "# numpy -> pandas 데이터프레임으로 변환하는 사용자 정의 함수\n",
    "def trans_df(ar):\n",
    "    ar.resize((int(len(ar)/8),8))\n",
    "    df = pd.DataFrame(data = ar,index=com,columns = annual_date)\n",
    "    return df "
   ]
  },
  {
   "cell_type": "code",
   "execution_count": 61,
   "metadata": {},
   "outputs": [],
   "source": [
    "# 데이터프레임으로 변환\n",
    "df_PER = trans_df(df_PER)\n",
    "df_PBR = trans_df(df_PBR)\n",
    "df_EPS = trans_df(df_EPS)\n",
    "df_ROE = trans_df(df_ROE)\n",
    "df_ROA = trans_df(df_ROA)\n",
    "df_NI = trans_df(df_NI)"
   ]
  },
  {
   "cell_type": "code",
   "execution_count": 74,
   "metadata": {},
   "outputs": [
    {
     "name": "stdout",
     "output_type": "stream",
     "text": [
      "연도 입력 2019\n"
     ]
    }
   ],
   "source": [
    "# 지표별로 랭크 구하여 합산하기\n",
    "df_rank = df_PER.rank(method='min')+df_PBR.rank(method='min')+df_EPS.rank(method='max')+df_ROE.rank(method='max')+df_ROA.rank(method='max')\n",
    "+df_NI.rank(method='max')"
   ]
  },
  {
   "cell_type": "code",
   "execution_count": 78,
   "metadata": {},
   "outputs": [
    {
     "name": "stdout",
     "output_type": "stream",
     "text": [
      "연도 입력 2019\n"
     ]
    }
   ],
   "source": [
    "# 선택년도에 따라 순위 정렬\n",
    "year = input('연도 입력 ')\n",
    "sc = year+'/12'\n",
    "df_rank.sort_values(by=sc,inplace=True)"
   ]
  },
  {
   "cell_type": "code",
   "execution_count": 86,
   "metadata": {},
   "outputs": [],
   "source": [
    "top10 = list(df_rank.index)[:10]"
   ]
  },
  {
   "cell_type": "code",
   "execution_count": 87,
   "metadata": {},
   "outputs": [
    {
     "data": {
      "text/plain": [
       "['자화전자 ',\n",
       " '대덕전자 ',\n",
       " '세코닉스 *',\n",
       " '모아텍 *',\n",
       " '심텍홀딩스 *',\n",
       " '이그잭스 *',\n",
       " '비덴트 *',\n",
       " '인터엠 *',\n",
       " '아이디스홀딩스 *',\n",
       " '남성 ']"
      ]
     },
     "execution_count": 87,
     "metadata": {},
     "output_type": "execute_result"
    }
   ],
   "source": [
    "# matplotlib rebuild\n",
    "import matplotlib as mpl\n",
    "#mpl.font_manager._rebuild()\n",
    "# matplotlib 환경 설정\n",
    "import matplotlib.pyplot as plt\n",
    "import pandas as pd\n",
    "import numpy as np\n",
    "import FinanceDataReader as fdr\n",
    "\n",
    "plt.rcParams[\"font.family\"] = 'nanummyeongjo'\n",
    "plt.rcParams[\"axes.grid\"] = True\n",
    "plt.rcParams[\"figure.figsize\"] = (12,6)\n",
    "plt.rcParams[\"axes.formatter.useoffset\"] = False\n",
    "plt.rcParams['axes.unicode_minus'] = False\n",
    "plt.rcParams[\"axes.formatter.limits\"] = -10000, 10000"
   ]
  }
 ],
 "metadata": {
  "kernelspec": {
   "display_name": "Python 3",
   "language": "python",
   "name": "python3"
  },
  "language_info": {
   "codemirror_mode": {
    "name": "ipython",
    "version": 3
   },
   "file_extension": ".py",
   "mimetype": "text/x-python",
   "name": "python",
   "nbconvert_exporter": "python",
   "pygments_lexer": "ipython3",
   "version": "3.7.7"
  }
 },
 "nbformat": 4,
 "nbformat_minor": 4
}
